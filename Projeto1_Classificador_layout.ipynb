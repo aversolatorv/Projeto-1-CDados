{
 "cells": [
  {
   "cell_type": "markdown",
   "metadata": {},
   "source": [
    "# Projeto 1 - Ciência dos Dados"
   ]
  },
  {
   "cell_type": "markdown",
   "metadata": {},
   "source": [
    "Nome: Andre Rodrigues Versolato\n",
    "\n",
    "Nome: Eduardo Pinelli"
   ]
  },
  {
   "cell_type": "markdown",
   "metadata": {},
   "source": [
    "Atenção: Serão permitidos grupos de três pessoas, mas com uma rubrica mais exigente. Grupos deste tamanho precisarão fazer um questionário de avaliação de trabalho em equipe"
   ]
  },
  {
   "cell_type": "markdown",
   "metadata": {},
   "source": [
    "___\n",
    "Carregando algumas bibliotecas:"
   ]
  },
  {
   "cell_type": "code",
   "execution_count": 1,
   "metadata": {},
   "outputs": [],
   "source": [
    "%matplotlib inline\n",
    "import pandas as pd\n",
    "import matplotlib.pyplot as plt\n",
    "import numpy as np\n",
    "import os\n",
    "import re"
   ]
  },
  {
   "cell_type": "code",
   "execution_count": 2,
   "metadata": {
    "scrolled": false
   },
   "outputs": [
    {
     "name": "stdout",
     "output_type": "stream",
     "text": [
      "Esperamos trabalhar no diretório\n",
      "C:\\Users\\dupin\\Desktop\\Insper\\CDados\\Projeto-1-CDados-master\n"
     ]
    }
   ],
   "source": [
    "print('Esperamos trabalhar no diretório')\n",
    "print(os.getcwd())"
   ]
  },
  {
   "cell_type": "markdown",
   "metadata": {},
   "source": [
    "Carregando a base de dados com os tweets classificados como relevantes e não relevantes:"
   ]
  },
  {
   "cell_type": "code",
   "execution_count": 3,
   "metadata": {},
   "outputs": [],
   "source": [
    "trumpsujo = pd.read_excel('Donald Trump All.xlsx')"
   ]
  },
  {
   "cell_type": "code",
   "execution_count": null,
   "metadata": {},
   "outputs": [],
   "source": []
  },
  {
   "cell_type": "markdown",
   "metadata": {},
   "source": [
    "___\n",
    "## Classificador automático de sentimento\n"
   ]
  },
  {
   "cell_type": "markdown",
   "metadata": {},
   "source": [
    "Faça aqui uma descrição do seu produto e o que considerou como relevante ou não relevante na classificação dos tweets.\n",
    "\n",
    "ESCREVA AQUI..."
   ]
  },
  {
   "cell_type": "markdown",
   "metadata": {},
   "source": [
    "___\n",
    "### Montando um Classificador Naive-Bayes\n",
    "\n",
    "Considerando apenas as mensagens da planilha Treinamento, ensine  seu classificador."
   ]
  },
  {
   "cell_type": "code",
   "execution_count": 4,
   "metadata": {},
   "outputs": [],
   "source": [
    "symbols = [\".\",\"?\",\"!\",\",\",\":\",\";\",\"#\",\"(\",\")\",\"  \",\"'\",\"rt\",\"&\"]\n",
    "\n",
    "\n",
    "\n",
    "def clean_tweets(tabela, titulo, etiquetas):\n",
    "    \n",
    "    tabela_limpa = pd.DataFrame()\n",
    "    \n",
    "    tabela_limpa['Treinamento'] = []\n",
    "    \n",
    "    tabela_suja = tabela[titulo].str.split(' ')\n",
    "    \n",
    "    tabela_suja = tabela_suja.astype(str).str.replace('.','')\n",
    "    tabela_suja = tabela_suja.astype(str).str.replace('?','')\n",
    "    tabela_suja = tabela_suja.astype(str).str.replace('!','')\n",
    "    tabela_suja = tabela_suja.astype(str).str.replace(',','')\n",
    "    tabela_suja = tabela_suja.astype(str).str.replace(':','')\n",
    "    tabela_suja = tabela_suja.astype(str).str.replace(';','')\n",
    "    tabela_suja = tabela_suja.astype(str).str.replace('#','')\n",
    "    tabela_suja = tabela_suja.astype(str).str.replace('(','')\n",
    "    tabela_suja = tabela_suja.astype(str).str.replace(')','')\n",
    "    tabela_suja = tabela_suja.astype(str).str.replace('  ','')\n",
    "    tabela_suja = tabela_suja.astype(str).str.replace('rt','')\n",
    "    tabela_suja = tabela_suja.astype(str).str.replace('&','')\n",
    "    tabela_suja = tabela_suja.astype(str).str.replace('@','')\n",
    "    tabela_suja = tabela_suja.astype(str).str.replace('-','')\n",
    "    tabela_suja = tabela_suja.astype(str).str.replace('/','')\n",
    "    tabela_suja = tabela_suja.astype(str).str.replace('-','')\n",
    "    tabela_suja = tabela_suja.astype(str).str.replace('~','')\n",
    "    tabela_suja = tabela_suja.astype(str).str.replace(']','')\n",
    "    tabela_suja = tabela_suja.astype(str).str.replace('[','')\n",
    "    tabela_suja = tabela_suja.astype(str).str.replace(\"'\",'')\n",
    "    tabela_suja = tabela_suja.astype(str).str.replace(\"/n\",'')\n",
    "\n",
    "    \n",
    "    \n",
    "    for k in tabela_suja:\n",
    "        tabela_limpa = tabela_limpa.append({'Treinamento': k}, ignore_index=True)\n",
    "        \n",
    "    \n",
    "    tabela[etiquetas] = tabela[etiquetas].replace(0,'Irrelevante')\n",
    "    tabela[etiquetas] = tabela[etiquetas].replace(1,'Relevante')\n",
    "    \n",
    "    tabela_limpa =tabela_limpa.join(tabela[etiquetas])\n",
    "    \n",
    "    return tabela_limpa\n",
    "\n",
    "\n"
   ]
  },
  {
   "cell_type": "code",
   "execution_count": 5,
   "metadata": {},
   "outputs": [],
   "source": [
    "trump = clean_tweets(trumpsujo, 'Treinamento','Etiquetas')\n"
   ]
  },
  {
   "cell_type": "code",
   "execution_count": 6,
   "metadata": {},
   "outputs": [],
   "source": [
    "filtro_relevante = trump['Etiquetas']=='Relevante'\n",
    "tweets_relevantes = trump.loc[filtro_relevante, :]\n",
    "\n",
    "\n",
    "filtro_irrelevante = trump['Etiquetas']=='Irrelevante'\n",
    "tweets_irrelevantes = trump.loc[filtro_irrelevante, :]\n",
    "\n",
    "\n",
    "\n",
    "\n",
    "rele_tweets = []\n",
    "\n",
    "for i in tweets_relevantes[\"Treinamento\"]:\n",
    "    e = pd.Series(i.split())\n",
    "    for i in e:\n",
    "        if i[0] == \"'\":\n",
    "            new_string = i[1:]\n",
    "            rele_tweets.append(new_string)\n",
    "        else:\n",
    "            rele_tweets.append(i)\n",
    "            \n",
    "\n",
    " \n",
    "\n",
    "irrele_tweets = []\n",
    "\n",
    "for i in tweets_irrelevantes[\"Treinamento\"]:\n",
    "    e = pd.Series(i.split())\n",
    "    for i in e:\n",
    "        if i[0] == \"'\":\n",
    "            new_string = i[1:]\n",
    "            irrele_tweets.append(new_string)\n",
    "        else:\n",
    "            irrele_tweets.append(i)\n",
    " \n",
    "\n",
    "todos_tweets = []\n",
    "\n",
    "for i in trump[\"Treinamento\"]:\n",
    "    e = pd.Series(i.split())\n",
    "    for i in e:\n",
    "        if i[0] == \"'\":\n",
    "            new_string = i[1:]\n",
    "            todos_tweets.append(new_string)\n",
    "        else:\n",
    "            todos_tweets.append(i)\n",
    " \n",
    "\n",
    "\n",
    "\n",
    "\n",
    "\n",
    "\n",
    "\n",
    "\n",
    "\n",
    "relefinal = pd.DataFrame(rele_tweets)\n",
    "reledata = relefinal[0].value_counts()\n",
    "len_rele = len(reledata)\n",
    "\n",
    "irrelefinal = pd.DataFrame(irrele_tweets)\n",
    "irreledata = irrelefinal[0].value_counts()\n",
    "len_irrele = len(irreledata)\n",
    "\n",
    "\n",
    "todofinal = pd.DataFrame(todos_tweets)\n",
    "tododata = todofinal[0].value_counts()\n",
    "len_todo = len(tododata)\n",
    "\n",
    "\n"
   ]
  },
  {
   "cell_type": "markdown",
   "metadata": {},
   "source": [
    "___\n",
    "### Verificando a performance do Classificador\n",
    "\n",
    "Agora você deve testar o seu classificador com a base de Testes."
   ]
  },
  {
   "cell_type": "code",
   "execution_count": 13,
   "metadata": {},
   "outputs": [
    {
     "name": "stderr",
     "output_type": "stream",
     "text": [
      "C:\\Users\\dupin\\Anaconda3\\lib\\site-packages\\ipykernel_launcher.py:51: SettingWithCopyWarning: \n",
      "A value is trying to be set on a copy of a slice from a DataFrame\n",
      "\n",
      "See the caveats in the documentation: http://pandas.pydata.org/pandas-docs/stable/indexing.html#indexing-view-versus-copy\n"
     ]
    }
   ],
   "source": [
    "trumptest = pd.read_excel('teste_trump.xlsx')\n",
    "test = clean_tweets(trumptest, 'Teste','Etiquetas')\n",
    "test['Computador'] = pd.Series()\n",
    "\n",
    "naive = 1\n",
    "\n",
    "\n",
    "\n",
    "for tweets in test['Treinamento']:\n",
    "    tweet = pd.Series(tweets.split())\n",
    "    prop_0 = 1\n",
    "    prop_1 = 1\n",
    "    prop_n = ''\n",
    "    for tweets in tweet:\n",
    "        if i[0] == \"'\":\n",
    "            new_string = tweets[1:]\n",
    "            \n",
    "            \n",
    "            if new_string in reledata:\n",
    "                prop_1 *= (reledata[new_string]+1)/(len_rele + len_todo)\n",
    "            \n",
    "            else:\n",
    "                prop_1 *= 1/(len_rele+len_todo)\n",
    "        \n",
    "            if new_string in irreledata:\n",
    "                prop_0 *= (irreledata[new_string]+1)/(len_irrele + len_todo)\n",
    "            \n",
    "            else:\n",
    "                prop_0 *= 1/(len_irrele+len_todo)\n",
    "        else:\n",
    "            \n",
    "            if tweets in reledata:\n",
    "                prop_1 *= (reledata[tweets]+1)/(len_rele + len_todo)\n",
    "            \n",
    "            else:\n",
    "                prop_1 *= 1/(len_rele+len_todo)\n",
    "        \n",
    "            if tweets in irreledata:\n",
    "                prop_0 *= (irreledata[tweets]+1)/(len_irrele + len_todo)\n",
    "            \n",
    "            else:\n",
    "                prop_0 *= 1/(len_irrele+len_todo)\n",
    "\n",
    "            \n",
    "            \n",
    "    if prop_0 < prop_1:\n",
    "        prop_n = 'Relevante'\n",
    "        test['Computador'][i] = prop_n\n",
    "    elif prop_0 > prop_1:\n",
    "        prop_n = 'Irrelevante'\n",
    "        test['Computador'][i] = prop_n\n",
    "    \n",
    "    naive += 1\n",
    "        \n",
    "    \n",
    "\n",
    "\n",
    "\n"
   ]
  },
  {
   "cell_type": "code",
   "execution_count": 14,
   "metadata": {},
   "outputs": [
    {
     "data": {
      "text/html": [
       "<div>\n",
       "<style scoped>\n",
       "    .dataframe tbody tr th:only-of-type {\n",
       "        vertical-align: middle;\n",
       "    }\n",
       "\n",
       "    .dataframe tbody tr th {\n",
       "        vertical-align: top;\n",
       "    }\n",
       "\n",
       "    .dataframe thead th {\n",
       "        text-align: right;\n",
       "    }\n",
       "</style>\n",
       "<table border=\"1\" class=\"dataframe\">\n",
       "  <thead>\n",
       "    <tr style=\"text-align: right;\">\n",
       "      <th></th>\n",
       "      <th>Treinamento</th>\n",
       "      <th>Etiquetas</th>\n",
       "      <th>Computador</th>\n",
       "    </tr>\n",
       "  </thead>\n",
       "  <tbody>\n",
       "    <tr>\n",
       "      <th>0</th>\n",
       "      <td>\"lets\" not forget senkamalaharris \"didnt\" pros...</td>\n",
       "      <td>Irrelevante</td>\n",
       "      <td>NaN</td>\n",
       "    </tr>\n",
       "    <tr>\n",
       "      <th>1</th>\n",
       "      <td>donaldtrump look at how covid was about to des...</td>\n",
       "      <td>Relevante</td>\n",
       "      <td>NaN</td>\n",
       "    </tr>\n",
       "    <tr>\n",
       "      <th>2</th>\n",
       "      <td>donaldtrump can i have some nudes</td>\n",
       "      <td>Irrelevante</td>\n",
       "      <td>NaN</td>\n",
       "    </tr>\n",
       "    <tr>\n",
       "      <th>3</th>\n",
       "      <td>realdonaldtrump donaldtrump \\nheat and electri...</td>\n",
       "      <td>Irrelevante</td>\n",
       "      <td>NaN</td>\n",
       "    </tr>\n",
       "    <tr>\n",
       "      <th>4</th>\n",
       "      <td>j1dom donaldtrump borisjohnson pray for a met...</td>\n",
       "      <td>Irrelevante</td>\n",
       "      <td>NaN</td>\n",
       "    </tr>\n",
       "  </tbody>\n",
       "</table>\n",
       "</div>"
      ],
      "text/plain": [
       "                                         Treinamento    Etiquetas  Computador\n",
       "0  \"lets\" not forget senkamalaharris \"didnt\" pros...  Irrelevante         NaN\n",
       "1  donaldtrump look at how covid was about to des...    Relevante         NaN\n",
       "2                  donaldtrump can i have some nudes  Irrelevante         NaN\n",
       "3  realdonaldtrump donaldtrump \\nheat and electri...  Irrelevante         NaN\n",
       "4   j1dom donaldtrump borisjohnson pray for a met...  Irrelevante         NaN"
      ]
     },
     "execution_count": 14,
     "metadata": {},
     "output_type": "execute_result"
    }
   ],
   "source": [
    "\n",
    "test.head(5)\n"
   ]
  },
  {
   "cell_type": "code",
   "execution_count": null,
   "metadata": {},
   "outputs": [],
   "source": []
  },
  {
   "cell_type": "markdown",
   "metadata": {},
   "source": [
    "___\n",
    "### Concluindo"
   ]
  },
  {
   "cell_type": "markdown",
   "metadata": {},
   "source": [
    "Depois de muitos testes e final, conseguimos fazer com que o divisor de Naive-Bayes funcionasse, ainda existem alguns problemas que não conseguimos resolver. Se houvesse a possibilidade de fazer essas correções, tornaríamos o tweet mais eficiente e veríamos aspectos diferentes, como números e símbolos. Eu os adicionaria ao dicionário  já criado e apenas adicionaria outra linha de código usada para limpar o restante dos tweets.\n",
    "\n",
    "Outra coisa que eu tentaria corrigir seria fazer com que o Naive Bayes tentasse diferenciar emoji. Eu faria isso tentando adicionar descrição a cada emoji e valor, então esse valor seria salvo para ser comparado posteriormente pelos Naive-Bayes.\n",
    "\n",
    "Esse divisor ingênuo de Bayes pode ser usado para muitas outras aplicações e, em seguida, dividir os tweets em informações relevantes ou irrelevantes, por exemplo, pode ser usado para publicidade direcionada. Ele pode varrer todas as informações que você já examinou e depois analisar quais as informações com maior probabilidade de vê-las novamente. Isso pode ser muito bom para as empresas direcionarem informações para seus consumidores específicos.\n"
   ]
  },
  {
   "cell_type": "code",
   "execution_count": null,
   "metadata": {},
   "outputs": [],
   "source": []
  },
  {
   "cell_type": "markdown",
   "metadata": {},
   "source": [
    "___\n",
    "## Aperfeiçoamento:\n",
    "\n",
    "Os trabalhos vão evoluir em conceito dependendo da quantidade de itens avançados:\n",
    "\n",
    "* Limpar: \\n, :, \", ', (, ), etc SEM remover emojis\n",
    "* Corrigir separação de espaços entre palavras e emojis ou entre emojis e emojis\n",
    "* Propor outras limpezas e transformações que não afetem a qualidade da informação ou classificação\n",
    "* Criar categorias intermediárias de relevância baseadas na probabilidade: ex.: muito relevante, relevante, neutro, irrelevante, muito irrelevante (3 categorias: C, mais categorias conta para B)\n",
    "* Explicar por que não posso usar o próprio classificador para gerar mais amostras de treinamento\n",
    "* Propor diferentes cenários para Naïve Bayes fora do contexto do projeto\n",
    "* Sugerir e explicar melhorias reais com indicações concretas de como implementar (indicar como fazer e indicar material de pesquisa)\n",
    "* Montar um dashboard que periodicamente realiza análise de sentimento e visualiza estes dados"
   ]
  },
  {
   "cell_type": "markdown",
   "metadata": {},
   "source": [
    "___\n",
    "## Referências"
   ]
  },
  {
   "cell_type": "markdown",
   "metadata": {},
   "source": [
    "[Naive Bayes and Text Classification](https://arxiv.org/pdf/1410.5329.pdf)  **Mais completo**\n",
    "\n",
    "[A practical explanation of a Naive Bayes Classifier](https://monkeylearn.com/blog/practical-explanation-naive-bayes-classifier/) **Mais simples**"
   ]
  },
  {
   "cell_type": "code",
   "execution_count": null,
   "metadata": {},
   "outputs": [],
   "source": []
  }
 ],
 "metadata": {
  "kernelspec": {
   "display_name": "Python 3",
   "language": "python",
   "name": "python3"
  },
  "language_info": {
   "codemirror_mode": {
    "name": "ipython",
    "version": 3
   },
   "file_extension": ".py",
   "mimetype": "text/x-python",
   "name": "python",
   "nbconvert_exporter": "python",
   "pygments_lexer": "ipython3",
   "version": "3.7.3"
  }
 },
 "nbformat": 4,
 "nbformat_minor": 4
}
